{
 "cells": [
  {
   "cell_type": "code",
   "execution_count": 3,
   "id": "49556d21",
   "metadata": {},
   "outputs": [],
   "source": [
    "import pandas as pd\n",
    "import numpy as np\n",
    "%matplotlib inline\n",
    "import matplotlib.pyplot as plt\n",
    "import matplotlib.lines as mlines\n",
    "from mpl_toolkits.mplot3d import Axes3D\n",
    "import seaborn as sns\n",
    "from sklearn.model_selection import train_test_split, learning_curve\n",
    "from sklearn.metrics import average_precision_score\n"
   ]
  },
  {
   "cell_type": "code",
   "execution_count": 4,
   "id": "9a0e203e",
   "metadata": {},
   "outputs": [],
   "source": [
    "from sklearn.preprocessing import StandardScaler\n",
    "from sklearn.model_selection import train_test_split\n",
    "from sklearn.linear_model import LogisticRegression\n",
    "from sklearn.metrics import f1_score, accuracy_score, confusion_matrix,roc_auc_score, recall_score, precision_score\n",
    "from sklearn.utils import resample\n",
    "from sklearn.ensemble import RandomForestClassifier"
   ]
  },
  {
   "cell_type": "code",
   "execution_count": 5,
   "id": "7efbd1ff",
   "metadata": {},
   "outputs": [],
   "source": [
    "import warnings\n",
    "warnings.filterwarnings(\"ignore\", category=DeprecationWarning)"
   ]
  },
  {
   "cell_type": "markdown",
   "id": "d7887679",
   "metadata": {},
   "source": [
    "# Header"
   ]
  },
  {
   "cell_type": "code",
   "execution_count": 6,
   "id": "675842bc",
   "metadata": {},
   "outputs": [
    {
     "name": "stdout",
     "output_type": "stream",
     "text": [
      "   step      type    amount     nameOrig  oldbalanceOrg  newbalanceOrig  \\\n",
      "0     1   PAYMENT   9839.64  C1231006815       170136.0       160296.36   \n",
      "1     1   PAYMENT   1864.28  C1666544295        21249.0        19384.72   \n",
      "2     1  TRANSFER    181.00  C1305486145          181.0            0.00   \n",
      "3     1  CASH_OUT    181.00   C840083671          181.0            0.00   \n",
      "4     1   PAYMENT  11668.14  C2048537720        41554.0        29885.86   \n",
      "\n",
      "      nameDest  oldbalanceDest  newbalanceDest  isFraud  isFlaggedFraud  \n",
      "0  M1979787155             0.0             0.0        0               0  \n",
      "1  M2044282225             0.0             0.0        0               0  \n",
      "2   C553264065             0.0             0.0        1               0  \n",
      "3    C38997010         21182.0             0.0        1               0  \n",
      "4  M1230701703             0.0             0.0        0               0  \n"
     ]
    }
   ],
   "source": [
    "data = pd.read_csv('C:/Users/HP user/PS_20174392719_1491204439457_log.csv/PS_20174392719_1491204439457_log.csv')\n",
    "\n",
    "print(data.head())"
   ]
  },
  {
   "cell_type": "markdown",
   "id": "65d571ad",
   "metadata": {},
   "source": [
    "# Exploratory Data Analysis"
   ]
  },
  {
   "cell_type": "code",
   "execution_count": 7,
   "id": "ffc51f3d",
   "metadata": {},
   "outputs": [
    {
     "name": "stdout",
     "output_type": "stream",
     "text": [
      "Number of records:\t\t 6362620\n",
      "Number of features per record:\t 11\n"
     ]
    }
   ],
   "source": [
    "print(\"Number of records:\\t\\t\",data.shape[0])\n",
    "print(\"Number of features per record:\\t\",data.shape[1])"
   ]
  },
  {
   "cell_type": "code",
   "execution_count": 8,
   "id": "19838d08",
   "metadata": {},
   "outputs": [
    {
     "name": "stdout",
     "output_type": "stream",
     "text": [
      "Any missing data? False\n"
     ]
    }
   ],
   "source": [
    "print(\"Any missing data?\",data.isnull().sum().any())"
   ]
  },
  {
   "cell_type": "code",
   "execution_count": 9,
   "id": "d5d5441f",
   "metadata": {},
   "outputs": [
    {
     "name": "stdout",
     "output_type": "stream",
     "text": [
      "No of Valid transactions: 6354407 which is  99.87 %\n",
      "No of Fraud transactions: 8213 which is  0.13 %\n"
     ]
    },
    {
     "data": {
      "text/plain": [
       "0    6354407\n",
       "1       8213\n",
       "Name: isFraud, dtype: int64"
      ]
     },
     "execution_count": 9,
     "metadata": {},
     "output_type": "execute_result"
    }
   ],
   "source": [
    "#print(\"% of Valid transactions:\",round(data.isFraud.value_counts()[0]/data.shape[0] * 100,2))\n",
    "#print(\"% of Fraud transactions:\",round(data.isFraud.value_counts()[1]/data.shape[0] * 100,2))\n",
    "\n",
    "print(\"No of Valid transactions:\",data.isFraud.value_counts()[0],'which is ',round(data.isFraud.value_counts()[0]/data.shape[0] * 100,2),'%')\n",
    "print(\"No of Fraud transactions:\",data.isFraud.value_counts()[1],'which is ',round(data.isFraud.value_counts()[1]/data.shape[0] * 100,2),'%')\n",
    "\n",
    "data.isFraud.value_counts()"
   ]
  },
  {
   "cell_type": "code",
   "execution_count": 10,
   "id": "d1c054f6",
   "metadata": {},
   "outputs": [
    {
     "name": "stdout",
     "output_type": "stream",
     "text": [
      "How many frauds transactions are Flagged?:\n",
      "\t 16\n",
      "What type of transactions are they?\n",
      "\t TRANSFER\n",
      "Are all these flagged also marked as Fraud Transactions?\n",
      "\t True\n"
     ]
    }
   ],
   "source": [
    "data_temp = data[data.isFlaggedFraud==1]\n",
    "print(\"How many frauds transactions are Flagged?:\")\n",
    "print(\"\\t\",len(data_temp))\n",
    "\n",
    "print(\"What type of transactions are they?\")\n",
    "print(\"\\t\",data_temp['type'].value_counts().index[0])\n",
    "\n",
    "print(\"Are all these flagged also marked as Fraud Transactions?\")\n",
    "print(\"\\t\",data_temp['isFraud'].value_counts()[1] == len(data_temp))"
   ]
  },
  {
   "cell_type": "code",
   "execution_count": 11,
   "id": "191f2ec6",
   "metadata": {},
   "outputs": [
    {
     "data": {
      "text/html": [
       "<div>\n",
       "<style scoped>\n",
       "    .dataframe tbody tr th:only-of-type {\n",
       "        vertical-align: middle;\n",
       "    }\n",
       "\n",
       "    .dataframe tbody tr th {\n",
       "        vertical-align: top;\n",
       "    }\n",
       "\n",
       "    .dataframe thead th {\n",
       "        text-align: right;\n",
       "    }\n",
       "</style>\n",
       "<table border=\"1\" class=\"dataframe\">\n",
       "  <thead>\n",
       "    <tr style=\"text-align: right;\">\n",
       "      <th></th>\n",
       "      <th>step</th>\n",
       "      <th>type</th>\n",
       "      <th>amount</th>\n",
       "      <th>nameOrig</th>\n",
       "      <th>oldbalanceOrg</th>\n",
       "      <th>newbalanceOrig</th>\n",
       "      <th>nameDest</th>\n",
       "      <th>oldbalanceDest</th>\n",
       "      <th>newbalanceDest</th>\n",
       "      <th>isFraud</th>\n",
       "      <th>isFlaggedFraud</th>\n",
       "    </tr>\n",
       "  </thead>\n",
       "  <tbody>\n",
       "    <tr>\n",
       "      <th>2</th>\n",
       "      <td>1</td>\n",
       "      <td>TRANSFER</td>\n",
       "      <td>181.00</td>\n",
       "      <td>C1305486145</td>\n",
       "      <td>181.0</td>\n",
       "      <td>0.0</td>\n",
       "      <td>C553264065</td>\n",
       "      <td>0.0</td>\n",
       "      <td>0.00</td>\n",
       "      <td>1</td>\n",
       "      <td>0</td>\n",
       "    </tr>\n",
       "    <tr>\n",
       "      <th>3</th>\n",
       "      <td>1</td>\n",
       "      <td>CASH_OUT</td>\n",
       "      <td>181.00</td>\n",
       "      <td>C840083671</td>\n",
       "      <td>181.0</td>\n",
       "      <td>0.0</td>\n",
       "      <td>C38997010</td>\n",
       "      <td>21182.0</td>\n",
       "      <td>0.00</td>\n",
       "      <td>1</td>\n",
       "      <td>0</td>\n",
       "    </tr>\n",
       "    <tr>\n",
       "      <th>15</th>\n",
       "      <td>1</td>\n",
       "      <td>CASH_OUT</td>\n",
       "      <td>229133.94</td>\n",
       "      <td>C905080434</td>\n",
       "      <td>15325.0</td>\n",
       "      <td>0.0</td>\n",
       "      <td>C476402209</td>\n",
       "      <td>5083.0</td>\n",
       "      <td>51513.44</td>\n",
       "      <td>0</td>\n",
       "      <td>0</td>\n",
       "    </tr>\n",
       "    <tr>\n",
       "      <th>19</th>\n",
       "      <td>1</td>\n",
       "      <td>TRANSFER</td>\n",
       "      <td>215310.30</td>\n",
       "      <td>C1670993182</td>\n",
       "      <td>705.0</td>\n",
       "      <td>0.0</td>\n",
       "      <td>C1100439041</td>\n",
       "      <td>22425.0</td>\n",
       "      <td>0.00</td>\n",
       "      <td>0</td>\n",
       "      <td>0</td>\n",
       "    </tr>\n",
       "    <tr>\n",
       "      <th>24</th>\n",
       "      <td>1</td>\n",
       "      <td>TRANSFER</td>\n",
       "      <td>311685.89</td>\n",
       "      <td>C1984094095</td>\n",
       "      <td>10835.0</td>\n",
       "      <td>0.0</td>\n",
       "      <td>C932583850</td>\n",
       "      <td>6267.0</td>\n",
       "      <td>2719172.89</td>\n",
       "      <td>0</td>\n",
       "      <td>0</td>\n",
       "    </tr>\n",
       "  </tbody>\n",
       "</table>\n",
       "</div>"
      ],
      "text/plain": [
       "    step      type     amount     nameOrig  oldbalanceOrg  newbalanceOrig  \\\n",
       "2      1  TRANSFER     181.00  C1305486145          181.0             0.0   \n",
       "3      1  CASH_OUT     181.00   C840083671          181.0             0.0   \n",
       "15     1  CASH_OUT  229133.94   C905080434        15325.0             0.0   \n",
       "19     1  TRANSFER  215310.30  C1670993182          705.0             0.0   \n",
       "24     1  TRANSFER  311685.89  C1984094095        10835.0             0.0   \n",
       "\n",
       "       nameDest  oldbalanceDest  newbalanceDest  isFraud  isFlaggedFraud  \n",
       "2    C553264065             0.0            0.00        1               0  \n",
       "3     C38997010         21182.0            0.00        1               0  \n",
       "15   C476402209          5083.0        51513.44        0               0  \n",
       "19  C1100439041         22425.0            0.00        0               0  \n",
       "24   C932583850          6267.0      2719172.89        0               0  "
      ]
     },
     "execution_count": 11,
     "metadata": {},
     "output_type": "execute_result"
    }
   ],
   "source": [
    "data = data.loc[(data['type'].isin(['TRANSFER', 'CASH_OUT']))]\n",
    "data.head()"
   ]
  },
  {
   "cell_type": "markdown",
   "id": "b79c2685",
   "metadata": {},
   "source": [
    "# Data Visualization"
   ]
  },
  {
   "cell_type": "code",
   "execution_count": 12,
   "id": "bcbbaba2",
   "metadata": {},
   "outputs": [
    {
     "data": {
      "image/png": "[encoded data removed]",
      "text/plain": [
       "<Figure size 720x576 with 1 Axes>"
      ]
     },
     "metadata": {},
     "output_type": "display_data"
    }
   ],
   "source": [
    "#create pie chart\n",
    "plt.figure(figsize=(10,8))\n",
    "plt.pie(data.type.value_counts().values,labels=data.type.value_counts().index,  autopct='%.0f%%')\n",
    "plt.title(\"Transaction Type\")\n",
    "plt.show()"
   ]
  },
  {
   "cell_type": "markdown",
   "id": "1414b683",
   "metadata": {},
   "source": [
    "# Data Visualization"
   ]
  },
  {
   "cell_type": "code",
   "execution_count": 15,
   "id": "b1eeb53e",
   "metadata": {},
   "outputs": [
    {
     "data": {
      "image/png": "[encoded data removed]",
      "text/plain": [
       "<Figure size 720x576 with 1 Axes>"
      ]
     },
     "metadata": {
      "needs_background": "light"
     },
     "output_type": "display_data"
    }
   ],
   "source": [
    "d = data.groupby('type')['amount'].sum()\n",
    "plt.figure(figsize=(10,8))\n",
    "ax = sns.barplot(x=d.index,y=d.values)\n",
    "for p in ax.patches:\n",
    "    ax.annotate(str(format(int(p.get_height()), ',d')), (p.get_x()+0.24, p.get_height()*1.01))\n",
    "    \n",
    "plt.title(\"Total amount in each transaction type\")\n",
    "plt.yticks([])\n",
    "plt.xlabel(\"Transaction Type\")\n",
    "plt.show()\n"
   ]
  },
  {
   "cell_type": "markdown",
   "id": "11c770e7",
   "metadata": {},
   "source": [
    "# Data Cleaning and Standardizing Continous values"
   ]
  },
  {
   "cell_type": "code",
   "execution_count": 16,
   "id": "01205b3b",
   "metadata": {
    "scrolled": true
   },
   "outputs": [
    {
     "data": {
      "text/html": [
       "<div>\n",
       "<style scoped>\n",
       "    .dataframe tbody tr th:only-of-type {\n",
       "        vertical-align: middle;\n",
       "    }\n",
       "\n",
       "    .dataframe tbody tr th {\n",
       "        vertical-align: top;\n",
       "    }\n",
       "\n",
       "    .dataframe thead th {\n",
       "        text-align: right;\n",
       "    }\n",
       "</style>\n",
       "<table border=\"1\" class=\"dataframe\">\n",
       "  <thead>\n",
       "    <tr style=\"text-align: right;\">\n",
       "      <th></th>\n",
       "      <th>amount</th>\n",
       "      <th>oldbalanceOrg</th>\n",
       "      <th>newbalanceOrig</th>\n",
       "      <th>oldbalanceDest</th>\n",
       "      <th>newbalanceDest</th>\n",
       "      <th>isFraud</th>\n",
       "    </tr>\n",
       "  </thead>\n",
       "  <tbody>\n",
       "    <tr>\n",
       "      <th>2</th>\n",
       "      <td>181.00</td>\n",
       "      <td>181.0</td>\n",
       "      <td>0.0</td>\n",
       "      <td>0.0</td>\n",
       "      <td>0.00</td>\n",
       "      <td>1</td>\n",
       "    </tr>\n",
       "    <tr>\n",
       "      <th>3</th>\n",
       "      <td>181.00</td>\n",
       "      <td>181.0</td>\n",
       "      <td>0.0</td>\n",
       "      <td>21182.0</td>\n",
       "      <td>0.00</td>\n",
       "      <td>1</td>\n",
       "    </tr>\n",
       "    <tr>\n",
       "      <th>15</th>\n",
       "      <td>229133.94</td>\n",
       "      <td>15325.0</td>\n",
       "      <td>0.0</td>\n",
       "      <td>5083.0</td>\n",
       "      <td>51513.44</td>\n",
       "      <td>0</td>\n",
       "    </tr>\n",
       "    <tr>\n",
       "      <th>19</th>\n",
       "      <td>215310.30</td>\n",
       "      <td>705.0</td>\n",
       "      <td>0.0</td>\n",
       "      <td>22425.0</td>\n",
       "      <td>0.00</td>\n",
       "      <td>0</td>\n",
       "    </tr>\n",
       "    <tr>\n",
       "      <th>24</th>\n",
       "      <td>311685.89</td>\n",
       "      <td>10835.0</td>\n",
       "      <td>0.0</td>\n",
       "      <td>6267.0</td>\n",
       "      <td>2719172.89</td>\n",
       "      <td>0</td>\n",
       "    </tr>\n",
       "  </tbody>\n",
       "</table>\n",
       "</div>"
      ],
      "text/plain": [
       "       amount  oldbalanceOrg  newbalanceOrig  oldbalanceDest  newbalanceDest  \\\n",
       "2      181.00          181.0             0.0             0.0            0.00   \n",
       "3      181.00          181.0             0.0         21182.0            0.00   \n",
       "15  229133.94        15325.0             0.0          5083.0        51513.44   \n",
       "19  215310.30          705.0             0.0         22425.0            0.00   \n",
       "24  311685.89        10835.0             0.0          6267.0      2719172.89   \n",
       "\n",
       "    isFraud  \n",
       "2         1  \n",
       "3         1  \n",
       "15        0  \n",
       "19        0  \n",
       "24        0  "
      ]
     },
     "execution_count": 16,
     "metadata": {},
     "output_type": "execute_result"
    }
   ],
   "source": [
    "data.drop(['step','type','nameOrig','nameDest','isFlaggedFraud'],axis=1,inplace=True)\n",
    "data.head()"
   ]
  },
  {
   "cell_type": "code",
   "execution_count": 17,
   "id": "5056b2d3",
   "metadata": {},
   "outputs": [],
   "source": [
    "ss = StandardScaler()\n",
    "\n",
    "data.amount         = ss.fit_transform(data[['amount']])\n",
    "data.oldbalanceOrg  = ss.fit_transform(data[['oldbalanceOrg']])\n",
    "data.oldbalanceDest = ss.fit_transform(data[['oldbalanceDest']])\n",
    "data.newbalanceOrig = ss.fit_transform(data[['newbalanceOrig']])\n",
    "data.newbalanceDest = ss.fit_transform(data[['newbalanceDest']])"
   ]
  },
  {
   "cell_type": "markdown",
   "id": "025e0344",
   "metadata": {},
   "source": [
    "# Splitting the Dataset for Training and Testing"
   ]
  },
  {
   "cell_type": "code",
   "execution_count": 18,
   "id": "7702e9a6",
   "metadata": {},
   "outputs": [
    {
     "data": {
      "text/plain": [
       "((2077806, 5), (692603, 5), (2077806,), (692603,))"
      ]
     },
     "execution_count": 18,
     "metadata": {},
     "output_type": "execute_result"
    }
   ],
   "source": [
    "X = data.drop([\"isFraud\"],axis=1)\n",
    "y = data.isFraud\n",
    "X_train, X_test, y_train, y_test = train_test_split(X, y,stratify=y)\n",
    "X_train.shape, X_test.shape, y_train.shape, y_test.shape"
   ]
  },
  {
   "cell_type": "code",
   "execution_count": 19,
   "id": "a05bafaa",
   "metadata": {},
   "outputs": [],
   "source": [
    "# Function to create a confusion matrix \n",
    "def conf_matrix(y_test, pred_test):    \n",
    "    \n",
    "    # Creating a confusion matrix\n",
    "    con_mat = confusion_matrix(y_test, pred_test)\n",
    "    con_mat = pd.DataFrame(con_mat, range(2), range(2))\n",
    "   \n",
    "    #Ploting the confusion matrix\n",
    "    \n",
    "    plt.figure(figsize=(6,6))\n",
    "    plt.title(\"Confusion Matrix\")\n",
    "    sns.set(font_scale=1.5) \n",
    "    sns.heatmap(con_mat, annot=True, annot_kws={\"size\": 16}, fmt='g', cmap='Blues', cbar=False)\n",
    "    "
   ]
  },
  {
   "cell_type": "markdown",
   "id": "7976c05b",
   "metadata": {},
   "source": [
    "# Declaring and Training the Logistic Regression model"
   ]
  },
  {
   "cell_type": "code",
   "execution_count": 20,
   "id": "b7929dbe",
   "metadata": {},
   "outputs": [
    {
     "data": {
      "text/plain": [
       "LogisticRegression(solver='newton-cg')"
      ]
     },
     "execution_count": 20,
     "metadata": {},
     "output_type": "execute_result"
    }
   ],
   "source": [
    "lr = LogisticRegression(solver='newton-cg')\n",
    "lr.fit(X_train, y_train)"
   ]
  },
  {
   "cell_type": "markdown",
   "id": "cbd3f853",
   "metadata": {},
   "source": [
    "# Testing and evaluating the model"
   ]
  },
  {
   "cell_type": "code",
   "execution_count": 100,
   "id": "e2c98b9b",
   "metadata": {},
   "outputs": [
    {
     "name": "stdout",
     "output_type": "stream",
     "text": [
      "How many class does the model predict? [0 1]\n",
      "Numbers in each class:\t\t 0 : 691596\n",
      "\t\t 1 : 1007\n",
      "f1 score: 0.6051854282901213\n",
      "Accuracy of this model: 0.9982630742286707\n",
      "recall of this model: 0.4519607843137255\n",
      "precision of this model: 0.9155908639523337\n"
     ]
    },
    {
     "data": {
      "image/png": "[encoded data removed]",
      "text/plain": [
       "<Figure size 432x432 with 1 Axes>"
      ]
     },
     "metadata": {},
     "output_type": "display_data"
    }
   ],
   "source": [
    "lr_pred = lr.predict(X_test)\n",
    "\n",
    "print(\"How many class does the model predict?\",np.unique( lr_pred ))\n",
    "print(\"Numbers in each class:\\t\\t\",\"0 :\",len(lr_pred[lr_pred==0]))\n",
    "print(\"\\t\\t 1 :\",len(lr_pred[lr_pred==1]))\n",
    "\n",
    "f1score = f1_score(y_test, lr_pred)\n",
    "print('f1 score:', f1score)\n",
    "acc_lr= accuracy_score(y_test, lr_pred)\n",
    "print(\"Accuracy of this model:\", acc_lr)\n",
    "recallscore = recall_score(y_test, lr_pred)\n",
    "print('recall of this model:', recallscore)\n",
    "precisionscore = precision_score(y_test, lr_pred)\n",
    "print('precision of this model:', precisionscore)\n",
    "conf_matrix(y_test, lr_pred)\n",
    "\n"
   ]
  },
  {
   "cell_type": "markdown",
   "id": "aff4ebb8",
   "metadata": {},
   "source": [
    "# Up-Sample Minority Class"
   ]
  },
  {
   "cell_type": "code",
   "execution_count": 45,
   "id": "e42767b0",
   "metadata": {},
   "outputs": [
    {
     "name": "stdout",
     "output_type": "stream",
     "text": [
      "The new class count are :\n"
     ]
    },
    {
     "data": {
      "text/plain": [
       "0    2762196\n",
       "1    2762196\n",
       "Name: isFraud, dtype: int64"
      ]
     },
     "execution_count": 45,
     "metadata": {},
     "output_type": "execute_result"
    }
   ],
   "source": [
    "n = data.isFraud.value_counts()[0]\n",
    "\n",
    "# Separate majority and minority classes\n",
    "df_majority = data[data.isFraud==0]\n",
    "df_minority = data[data.isFraud==1]\n",
    "\n",
    "# Upsample minority class\n",
    "df_minority_upsampled = resample(df_minority, \n",
    "                                 replace=True,     # sample with replacement\n",
    "                                 n_samples=n,    # to match majority class\n",
    "                                 random_state=123) # reproducible results\n",
    " \n",
    "# Combine majority class with upsampled minority class\n",
    "df_upsampled = pd.concat([df_majority, df_minority_upsampled])\n",
    " \n",
    "print(\"The new class count are :\")\n",
    "df_upsampled.isFraud.value_counts()\n"
   ]
  },
  {
   "cell_type": "markdown",
   "id": "6a04d314",
   "metadata": {},
   "source": [
    "# Splitting the dataset/ Declaring and training the Logistic regression model"
   ]
  },
  {
   "cell_type": "code",
   "execution_count": 48,
   "id": "05745bce",
   "metadata": {},
   "outputs": [
    {
     "data": {
      "text/plain": [
       "LogisticRegression(max_iter=1000, solver='newton-cg')"
      ]
     },
     "execution_count": 48,
     "metadata": {},
     "output_type": "execute_result"
    }
   ],
   "source": [
    "X = df_upsampled.drop([\"isFraud\"],axis = 1)\n",
    "y = df_upsampled.isFraud\n",
    "X_train, X_test, y_train, y_test = train_test_split(X, y)\n",
    "\n",
    "\n",
    "lr = LogisticRegression(solver='newton-cg', max_iter = 1000)\n",
    "lr.fit(X_train, y_train)\n",
    "\n"
   ]
  },
  {
   "cell_type": "markdown",
   "id": "6c6aca76",
   "metadata": {},
   "source": [
    "# Testing and evaluating the Logistic Regression Model"
   ]
  },
  {
   "cell_type": "code",
   "execution_count": 49,
   "id": "50f9ce61",
   "metadata": {},
   "outputs": [
    {
     "name": "stdout",
     "output_type": "stream",
     "text": [
      "Accuracy of this model:\t\t 0.9006182037769949\n",
      "f1 score for the testing data:\t 0.897300371124147\n",
      "recall for the testing data:\t 0.8693884534300719\n",
      "precision for the testing data: 0.9270639747922806\n"
     ]
    },
    {
     "data": {
      "image/png": "[encoded data removed]",
      "text/plain": [
       "<Figure size 432x432 with 1 Axes>"
      ]
     },
     "metadata": {},
     "output_type": "display_data"
    }
   ],
   "source": [
    "#Predicting on the test data\n",
    "up_scale_pred = lr.predict(X_test)\n",
    "acc_up_scale=accuracy_score(y_test, up_scale_pred)\n",
    "print(\"Accuracy of this model:\\t\\t\",acc_up_scale)\n",
    "f1up_scale_pred = f1_score(y_test, up_scale_pred)\n",
    "print('f1 score for the testing data:\\t', f1up_scale_pred)\n",
    "recallupscale = recall_score(y_test, up_scale_pred)\n",
    "print('recall for the testing data:\\t', recallupscale)\n",
    "precisionupscale = precision_score(y_test, up_scale_pred)\n",
    "print('precision for the testing data:', precisionupscale)\n",
    "conf_matrix(y_test, up_scale_pred)"
   ]
  },
  {
   "cell_type": "markdown",
   "id": "246b5f52",
   "metadata": {},
   "source": [
    "# Splitting the Dataset for Training and Testing"
   ]
  },
  {
   "cell_type": "code",
   "execution_count": 37,
   "id": "c86d99b2",
   "metadata": {},
   "outputs": [],
   "source": [
    "X = df_upsampled.drop([\"isFraud\"],axis = 1)\n",
    "y = df_upsampled.isFraud"
   ]
  },
  {
   "cell_type": "code",
   "execution_count": 38,
   "id": "3dd77d16",
   "metadata": {},
   "outputs": [
    {
     "name": "stdout",
     "output_type": "stream",
     "text": [
      "The new class count are :\n"
     ]
    },
    {
     "data": {
      "text/plain": [
       "0    2762196\n",
       "1    2762196\n",
       "Name: isFraud, dtype: int64"
      ]
     },
     "execution_count": 38,
     "metadata": {},
     "output_type": "execute_result"
    }
   ],
   "source": [
    "print(\"The new class count are :\")\n",
    "df_upsampled.isFraud.value_counts()"
   ]
  },
  {
   "cell_type": "code",
   "execution_count": 39,
   "id": "57f39108",
   "metadata": {},
   "outputs": [],
   "source": [
    "X_train, X_test, y_train, y_test = train_test_split(X, y, random_state=42)"
   ]
  },
  {
   "cell_type": "markdown",
   "id": "382b7829",
   "metadata": {},
   "source": [
    "# Declaring and Training the Random Forest classifier"
   ]
  },
  {
   "cell_type": "code",
   "execution_count": 40,
   "id": "0292f84f",
   "metadata": {},
   "outputs": [],
   "source": [
    "rfc = RandomForestClassifier()"
   ]
  },
  {
   "cell_type": "code",
   "execution_count": 41,
   "id": "4e6c1865",
   "metadata": {},
   "outputs": [
    {
     "data": {
      "text/plain": [
       "RandomForestClassifier()"
      ]
     },
     "execution_count": 41,
     "metadata": {},
     "output_type": "execute_result"
    }
   ],
   "source": [
    "rfc.fit(X_train, y_train)"
   ]
  },
  {
   "cell_type": "markdown",
   "id": "9c7a9c0a",
   "metadata": {},
   "source": [
    "# Testing and evaluating the Random Forest Classifier"
   ]
  },
  {
   "cell_type": "code",
   "execution_count": 42,
   "id": "6e383bf1",
   "metadata": {},
   "outputs": [],
   "source": [
    "rfc_pred = rfc.predict(X_test)"
   ]
  },
  {
   "cell_type": "code",
   "execution_count": 43,
   "id": "62aceda9",
   "metadata": {},
   "outputs": [
    {
     "name": "stdout",
     "output_type": "stream",
     "text": [
      "f1 score:\t\t 0.9998409013660788\n",
      "Accuracy of the model:\t 0.9998407064524024\n",
      "recall for the testing data:\t 1.0\n",
      "precision of the model:\t\t 0.9996818533488551\n"
     ]
    }
   ],
   "source": [
    "f1_rfc = f1_score(y_test, rfc_pred)\n",
    "print('f1 score:\\t\\t', f1_rfc)\n",
    "acc_rfc=accuracy_score(y_test, rfc_pred) \n",
    "print(\"Accuracy of the model:\\t\", acc_rfc)\n",
    "rec_rfc = recall_score(y_test, rfc_pred)\n",
    "print('recall for the testing data:\\t', rec_rfc)\n",
    "prec_rfc = precision_score(y_test, rfc_pred)\n",
    "print('precision of the model:\\t\\t', prec_rfc)\n"
   ]
  },
  {
   "cell_type": "markdown",
   "id": "5e7ff3db",
   "metadata": {},
   "source": [
    "# Confusion Matrix of the Random Forest Classifier"
   ]
  },
  {
   "cell_type": "code",
   "execution_count": 44,
   "id": "322d23bd",
   "metadata": {},
   "outputs": [
    {
     "data": {
      "image/png": "[encoded data removed]",
      "text/plain": [
       "<Figure size 432x432 with 1 Axes>"
      ]
     },
     "metadata": {},
     "output_type": "display_data"
    }
   ],
   "source": [
    "conf_matrix(y_test, rfc_pred)"
   ]
  },
  {
   "cell_type": "code",
   "execution_count": null,
   "id": "a4153839",
   "metadata": {},
   "outputs": [],
   "source": []
  }
 ],
 "metadata": {
  "kernelspec": {
   "display_name": "Python 3 (ipykernel)",
   "language": "python",
   "name": "python3"
  },
  "language_info": {
   "codemirror_mode": {
    "name": "ipython",
    "version": 3
   },
   "file_extension": ".py",
   "mimetype": "text/x-python",
   "name": "python",
   "nbconvert_exporter": "python",
   "pygments_lexer": "ipython3",
   "version": "3.11.7"
  }
 },
 "nbformat": 4,
 "nbformat_minor": 5
}
